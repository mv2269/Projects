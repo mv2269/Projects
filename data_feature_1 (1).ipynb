{
  "nbformat": 4,
  "nbformat_minor": 0,
  "metadata": {
    "colab": {
      "provenance": []
    },
    "kernelspec": {
      "name": "python3",
      "display_name": "Python 3"
    },
    "language_info": {
      "name": "python"
    }
  },
  "cells": [
    {
      "cell_type": "markdown",
      "source": [
        "data feature to search for movie cast and then lookup latest news/other movies"
      ],
      "metadata": {
        "id": "GyX5K9QVZxpS"
      }
    },
    {
      "cell_type": "code",
      "execution_count": 1,
      "metadata": {
        "colab": {
          "base_uri": "https://localhost:8080/"
        },
        "id": "ndvRemToZwLp",
        "outputId": "247097f8-103f-4e56-be1e-8d75d734b7ce"
      },
      "outputs": [
        {
          "output_type": "stream",
          "name": "stdout",
          "text": [
            "OMDb API key retrieved successfully!\n",
            "NYTimes API key retrieved successfully!\n"
          ]
        }
      ],
      "source": [
        "# Set up the API keys\n",
        "from google.colab import userdata\n",
        "\n",
        "# Retrieve the NYTimes API key\n",
        "Movie_API_KEY = userdata.get('OMDbAPI')\n",
        "\n",
        "# Set up the API key for the stock ticker to company name service\n",
        "News_KEY = userdata.get('NYTImesAPI')\n",
        "\n",
        "# Print confirmation messages, do not print API keys (bad practice!)\n",
        "if Movie_API_KEY:\n",
        "    print(\"OMDb API key retrieved successfully!\")\n",
        "else:\n",
        "    print(\"Failed to retrieve OMDb API key. Please check your setup.\")\n",
        "\n",
        "if News_KEY:\n",
        "    print(\"NYTimes API key retrieved successfully!\")\n",
        "else:\n",
        "    print(\"Failed to retrieve NYTimes API key. Please check your setup.\")"
      ]
    },
    {
      "cell_type": "code",
      "source": [
        "# Using the OMDb API to retrieve cast information. Function accepts the movie/tv show name as an argument\n",
        "import requests\n",
        "def get_cast_names(movie):\n",
        "  url=f'http://www.omdbapi.com/?apikey={Movie_API_KEY}&t={movie}'\n",
        "  response=requests.get(url)\n",
        "  data = response.json()\n",
        "  return(data['Actors'])\n",
        "\n"
      ],
      "metadata": {
        "id": "-YlxLgGBeJxJ"
      },
      "execution_count": 2,
      "outputs": []
    },
    {
      "cell_type": "code",
      "source": [
        "# Using the NY Times API to look up news about the cast members. The function accepts actorname as an argument\n",
        "import requests\n",
        "def newslookup(actorname):\n",
        "  url=f'https://api.nytimes.com/svc/search/v2/articlesearch.json?q={actorname}&api-key={News_KEY}'\n",
        "  response = requests.get(url)\n",
        "  if response.status_code == 200:\n",
        "        data = response.json()\n",
        "        return data['response']['docs']\n",
        "  else:\n",
        "        print(\"Failed to retrieve articles. Please try again.\")\n",
        "        return []\n",
        "\n",
        "\n"
      ],
      "metadata": {
        "id": "4XzTT6xKfkqD"
      },
      "execution_count": 3,
      "outputs": []
    },
    {
      "cell_type": "code",
      "source": [
        "#combining the two functions\n",
        "movie=input(\"Input a movie/tv show name\")\n",
        "cast=get_cast_names(movie)\n",
        "print(\"The cast of the movie is:\" , cast)\n",
        "names_list = [name.strip() for name in cast.split(',')]\n",
        "print (names_list)\n",
        "print (names_list[2])\n",
        "\n",
        "# This input allows users to decide if they want news about a particular cast member or all of them\n",
        "\n",
        "x = int(input(f\"Enter the number of the option you want to lookup news for:\\n1. {names_list[0]}\\n2. {names_list[1]}\\n3. {names_list[2]}\\n4. All\\n\"))\n",
        "\n",
        "if x==1:\n",
        "  actorname=names_list[0]\n",
        "  news=newslookup(actorname)\n",
        "  print(f'Found {len(news)} articles related to {actorname}')\n",
        "\n",
        "  # Display all articles\n",
        "  for i in news[:]:\n",
        "    print(f\"Title: {i['headline']['main']}\")\n",
        "    print(f\"URL: {i['web_url']}\\n\")\n",
        "\n",
        "if x==2:\n",
        "  actorname=names_list[1]\n",
        "  news=newslookup(actorname)\n",
        "  print(f'Found {len(news)} articles related to {actorname}')\n",
        "\n",
        "  # Display all articles\n",
        "  for i in news[:]:\n",
        "    print(f\"Title: {i['headline']['main']}\")\n",
        "    print(f\"URL: {i['web_url']}\\n\")\n",
        "\n",
        "if x==3:\n",
        "  actorname=names_list[2]\n",
        "  news=newslookup(actorname)\n",
        "  print(f'Found {len(news)} articles related to {actorname}')\n",
        "\n",
        "  # Display all articles\n",
        "  for i in news[:]:\n",
        "    print(f\"Title: {i['headline']['main']}\")\n",
        "    print(f\"URL: {i['web_url']}\\n\")\n",
        "\n",
        "if x==4:\n",
        "  actorname=cast\n",
        "  news=newslookup(actorname)\n",
        "  print(f'Found {len(news)} articles related to {actorname}')\n",
        "\n",
        "  # Display all articles\n",
        "  for i in news[:]:\n",
        "    print(f\"Title: {i['headline']['main']}\")\n",
        "    print(f\"URL: {i['web_url']}\\n\")\n",
        "\n",
        "\n"
      ],
      "metadata": {
        "colab": {
          "base_uri": "https://localhost:8080/"
        },
        "id": "az6-jCClhsPb",
        "outputId": "d6d5be30-090b-4e50-e431-68f4473a196d"
      },
      "execution_count": 4,
      "outputs": [
        {
          "output_type": "stream",
          "name": "stdout",
          "text": [
            "Input a movie/tv show namela la land\n",
            "The cast of the movie is: Ryan Gosling, Emma Stone, Rosemarie DeWitt\n",
            "['Ryan Gosling', 'Emma Stone', 'Rosemarie DeWitt']\n",
            "Rosemarie DeWitt\n",
            "Enter the number of the option you want to lookup news for:\n",
            "1. Ryan Gosling\n",
            "2. Emma Stone\n",
            "3. Rosemarie DeWitt\n",
            "4. All\n",
            "2\n",
            "Found 10 articles related to Emma Stone\n",
            "Title: How the Venice Film Festival Became an ‘Oscar Launchpad’\n",
            "URL: https://www.nytimes.com/2024/08/24/movies/venice-film-festival-oscar-launchpad.html\n",
            "\n",
            "Title: ‘Kinds of Kindness’ Review: Everybody’s Looking for Something\n",
            "URL: https://www.nytimes.com/2024/06/20/movies/kinds-of-kindness-review.html\n",
            "\n",
            "Title: Emma Stone, Jesse Plemons and Willem Dafoe Crack the Yorgos Lanthimos Code\n",
            "URL: https://www.nytimes.com/2024/05/20/movies/emma-stone-jesse-plemons-willem-dafoe-yorgos-lanthimos-kinds-of-kindness.html\n",
            "\n",
            "Title: Emma Stone\n",
            "URL: https://www.nytimes.com/slideshow/2015/01/08/movies/awardsseason/EMMA-STONE-FASHION.html\n",
            "\n",
            "Title: Emma Stone Wins Her Second Best Actress Oscar for ‘Poor Things’\n",
            "URL: https://www.nytimes.com/2024/03/10/movies/emma-stone-oscars-poor-things.html\n",
            "\n",
            "Title: Look of The Moment | Emma Stone\n",
            "URL: https://tmagazine.blogs.nytimes.com/2012/06/29/look-of-the-moment-emma-stone-3/\n",
            "\n",
            "Title: Look of the Moment | Emma Stone\n",
            "URL: https://tmagazine.blogs.nytimes.com/2011/07/19/look-of-the-moment-emma-stone/\n",
            "\n",
            "Title: On the Endless Expressions of Emma Stone\n",
            "URL: https://www.nytimes.com/2019/02/14/t-magazine/emma-stone.html\n",
            "\n",
            "Title: Emma Stone in Talks to Join ‘Cabaret’ Cast\n",
            "URL: https://artsbeat.blogs.nytimes.com/2014/08/11/emma-stone-in-talks-to-join-cabaret-cast/\n",
            "\n",
            "Title: Look of The Moment | Emma Stone\n",
            "URL: https://tmagazine.blogs.nytimes.com/2012/01/30/look-of-the-moment-emma-stone-2/\n",
            "\n"
          ]
        }
      ]
    }
  ]
}
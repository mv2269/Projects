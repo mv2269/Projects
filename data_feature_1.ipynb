{
  "nbformat": 4,
  "nbformat_minor": 0,
  "metadata": {
    "colab": {
      "provenance": []
    },
    "kernelspec": {
      "name": "python3",
      "display_name": "Python 3"
    },
    "language_info": {
      "name": "python"
    }
  },
  "cells": [
    {
      "cell_type": "markdown",
      "source": [
        "data feature to search for movie cast and then lookup latest news/other movies"
      ],
      "metadata": {
        "id": "GyX5K9QVZxpS"
      }
    },
    {
      "cell_type": "code",
      "execution_count": 20,
      "metadata": {
        "colab": {
          "base_uri": "https://localhost:8080/"
        },
        "id": "ndvRemToZwLp",
        "outputId": "b2d2b713-fb2a-4738-c300-fc246ffe82ff"
      },
      "outputs": [
        {
          "output_type": "stream",
          "name": "stdout",
          "text": [
            "NYTimes API key retrieved successfully!\n",
            "Stock API key is set!\n"
          ]
        }
      ],
      "source": [
        "# Set up the API keys\n",
        "from google.colab import userdata\n",
        "\n",
        "# Retrieve the NYTimes API key\n",
        "Movie_API_KEY = userdata.get('OMDbAPI')\n",
        "\n",
        "# Set up the API key for the stock ticker to company name service\n",
        "News_KEY = userdata.get('NYTImesAPI')\n",
        "\n",
        "# Print confirmation messages, do not print API keys (bad practice!)\n",
        "if Movie_API_KEY:\n",
        "    print(\"NYTimes API key retrieved successfully!\")\n",
        "else:\n",
        "    print(\"Failed to retrieve NYTimes API key. Please check your setup.\")\n",
        "\n",
        "if News_KEY:\n",
        "    print(\"Stock API key is set!\")\n",
        "else:\n",
        "    print(\"Failed to set Stock API key. Please check your setup.\")"
      ]
    },
    {
      "cell_type": "code",
      "source": [
        "import requests\n",
        "def get_cast_names(movie):\n",
        "  url=f'http://www.omdbapi.com/?apikey={Movie_API_KEY}&t={movie}'\n",
        "  response=requests.get(url)\n",
        "  data = response.json()\n",
        "  return(data['Actors'])\n",
        "\n"
      ],
      "metadata": {
        "id": "-YlxLgGBeJxJ"
      },
      "execution_count": 21,
      "outputs": []
    },
    {
      "cell_type": "code",
      "source": [
        "import requests\n",
        "def newslookup(actorname):\n",
        "  url=f'https://api.nytimes.com/svc/search/v2/articlesearch.json?q={actorname}&api-key={News_KEY}'\n",
        "  response = requests.get(url)\n",
        "  if response.status_code == 200:\n",
        "        data = response.json()\n",
        "        return data['response']['docs']\n",
        "  else:\n",
        "        print(\"Failed to retrieve articles. Please try again.\")\n",
        "        return []\n",
        "\n",
        "\n"
      ],
      "metadata": {
        "id": "4XzTT6xKfkqD"
      },
      "execution_count": 31,
      "outputs": []
    },
    {
      "cell_type": "code",
      "source": [
        "#combining the two functions\n",
        "movie=input(\"Input a movie/tv show name\")\n",
        "actorname=get_cast_names(movie)\n",
        "print(\"The cast of the movie is:\" , actorname)\n",
        "news=newslookup(actorname)\n",
        "print(f'Found {len(news)} articles related to {actorname}')\n",
        "\n",
        "# Display 3 articles so we can test this\n",
        "for i in news[:]:\n",
        "    print(f\"Title: {i['headline']['main']}\")\n",
        "    print(f\"URL: {i['web_url']}\\n\")\n",
        "\n",
        "print(type(actorname))\n"
      ],
      "metadata": {
        "colab": {
          "base_uri": "https://localhost:8080/"
        },
        "id": "az6-jCClhsPb",
        "outputId": "3c1455e7-8e99-41e5-c500-d894016dd72e"
      },
      "execution_count": 33,
      "outputs": [
        {
          "output_type": "stream",
          "name": "stdout",
          "text": [
            "Input a movie/tv show namebarbie\n",
            "The cast of the movie is: Margot Robbie, Ryan Gosling, Issa Rae\n",
            "Found 6 articles related to Margot Robbie, Ryan Gosling, Issa Rae\n",
            "Title: 13 Looks That Did the Most at the ‘Barbie’ Premiere\n",
            "URL: https://www.nytimes.com/2023/07/10/style/barbie-premiere-pink-carpet-margot-robbie.html\n",
            "\n",
            "Title: ‘Barbie’ Review: Out of the Box and On the Road\n",
            "URL: https://www.nytimes.com/2023/07/18/movies/barbie-movie-review.html\n",
            "\n",
            "Title: All Pinked Out\n",
            "URL: https://www.nytimes.com/2023/07/24/style/all-pinked-out.html\n",
            "\n",
            "Title: Can’t Decide Whether to See ‘Barbie,’ ‘Oppenheimer’ or Both? Our Barbenheimer Quiz Can Help.\n",
            "URL: https://www.nytimes.com/interactive/2023/07/19/movies/barbenheimer-quiz.html\n",
            "\n",
            "Title: 20 Looks That Did the Most at the Golden Globes\n",
            "URL: https://www.nytimes.com/2024/01/08/style/golden-globes-fashion.html\n",
            "\n",
            "Title: The Toughest ‘Barbie’ Critics Are Barbie Collectors\n",
            "URL: https://www.nytimes.com/2023/08/08/movies/barbie-doll-collectors.html\n",
            "\n",
            "<class 'str'>\n"
          ]
        }
      ]
    },
    {
      "cell_type": "code",
      "source": [],
      "metadata": {
        "colab": {
          "base_uri": "https://localhost:8080/"
        },
        "id": "ZwDnantqk3by",
        "outputId": "040ffe90-64d7-4db5-8449-3c8a6fc3f37e"
      },
      "execution_count": 28,
      "outputs": [
        {
          "output_type": "stream",
          "name": "stdout",
          "text": [
            "y\n"
          ]
        }
      ]
    }
  ]
}